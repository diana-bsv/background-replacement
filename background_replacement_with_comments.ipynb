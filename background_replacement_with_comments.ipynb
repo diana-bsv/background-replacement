{
  "nbformat": 4,
  "nbformat_minor": 0,
  "metadata": {
    "colab": {
      "provenance": [],
      "gpuType": "T4",
      "include_colab_link": true
    },
    "kernelspec": {
      "name": "python3",
      "display_name": "Python 3"
    },
    "language_info": {
      "name": "python"
    },
    "accelerator": "GPU"
  },
  "cells": [
    {
      "cell_type": "markdown",
      "metadata": {
        "id": "view-in-github",
        "colab_type": "text"
      },
      "source": [
        "<a href=\"https://colab.research.google.com/github/diana-bsv/background-replacement/blob/main/background_replacement_with_comments.ipynb\" target=\"_parent\"><img src=\"https://colab.research.google.com/assets/colab-badge.svg\" alt=\"Open In Colab\"/></a>"
      ]
    },
    {
      "cell_type": "code",
      "source": [
        "import numpy as np\n",
        "import torch\n",
        "import os\n",
        "\n",
        "from tqdm import tqdm\n",
        "\n",
        "from PIL import Image\n",
        "import cv2\n",
        "import matplotlib.pyplot as plt\n",
        "\n",
        "from torch.utils.data import Dataset, DataLoader\n",
        "from torchvision.transforms import Compose, Resize, ToTensor"
      ],
      "metadata": {
        "id": "WQ6QQ86APXDh"
      },
      "execution_count": 1,
      "outputs": []
    },
    {
      "cell_type": "code",
      "execution_count": null,
      "metadata": {
        "id": "3NIq6SoP7cqO"
      },
      "outputs": [],
      "source": [
        "# Загрузка модели и предобученных весов\n",
        "!git clone https://github.com/NathanUA/U-2-Net.git\n",
        "\n",
        "import sys\n",
        "sys.path.append('./U-2-Net')\n",
        "\n",
        "!wget 'https://huggingface.co/lilpotat/pytorch3d/resolve/346374a95673795896e94398d65700cb19199e31/u2net.pth' -O ./U-2-Net/u2net.pth\n",
        "\n",
        "from model import U2NET"
      ]
    },
    {
      "cell_type": "code",
      "source": [
        "# Загрузка данных для обработки\n",
        "!wget \"https://edu.tinkoff.ru/files/6fb0f21e-6f0f-4d7d-9a83-dab650e7ea10\" -O data.zip\n",
        "!unzip data.zip -d ./\n",
        "\n",
        "os.mkdir(os.getcwd() + \"/results\")"
      ],
      "metadata": {
        "id": "NaorFccV6gkU"
      },
      "execution_count": null,
      "outputs": []
    },
    {
      "cell_type": "code",
      "source": [
        "# Модель https://github.com/NathanUA/U-2-Net.git\n",
        "net = U2NET(3,1)\n",
        "\n",
        "if torch.cuda.is_available():\n",
        "  device = \"cuda\"\n",
        "else:\n",
        "  device = \"cpu\"\n",
        "\n",
        "# Загрузка предобученной модели\n",
        "net.load_state_dict(torch.load(\"./U-2-Net/u2net.pth\"));\n",
        "net.to(device);\n",
        "net.eval();"
      ],
      "metadata": {
        "colab": {
          "base_uri": "https://localhost:8080/"
        },
        "id": "Weiv5xgxP14h",
        "outputId": "3bba910a-4776-4644-bfbf-76dc9713b799"
      },
      "execution_count": 4,
      "outputs": [
        {
          "output_type": "stream",
          "name": "stderr",
          "text": [
            "<ipython-input-4-32a2398e0f38>:8: FutureWarning: You are using `torch.load` with `weights_only=False` (the current default value), which uses the default pickle module implicitly. It is possible to construct malicious pickle data which will execute arbitrary code during unpickling (See https://github.com/pytorch/pytorch/blob/main/SECURITY.md#untrusted-models for more details). In a future release, the default value for `weights_only` will be flipped to `True`. This limits the functions that could be executed during unpickling. Arbitrary objects will no longer be allowed to be loaded via this mode unless they are explicitly allowlisted by the user via `torch.serialization.add_safe_globals`. We recommend you start setting `weights_only=True` for any use case where you don't have full control of the loaded file. Please open an issue on GitHub for any issues related to this experimental feature.\n",
            "  net.load_state_dict(torch.load(\"./U-2-Net/u2net.pth\"));\n"
          ]
        }
      ]
    },
    {
      "cell_type": "code",
      "source": [
        "class ImageDataset(Dataset):\n",
        "  \"\"\" Датасет с изображениями товаров для обработки. Хранит путь к изображениям \"\"\"\n",
        "  def __init__(self, root_dir):\n",
        "    self.image_paths = []\n",
        "\n",
        "    for img_name in os.listdir(root_dir):\n",
        "      if img_name[-4:] == \".jpg\":\n",
        "        self.image_paths.append('./sirius_data/' + img_name)\n",
        "\n",
        "  def __len__(self):\n",
        "    return len(self.image_paths)\n",
        "\n",
        "  def __getitem__(self, idx):\n",
        "    img_path = self.image_paths[idx]\n",
        "\n",
        "    return img_path"
      ],
      "metadata": {
        "id": "Bnm9dJD14l4L"
      },
      "execution_count": 5,
      "outputs": []
    },
    {
      "cell_type": "code",
      "source": [
        "# Работа с данными\n",
        "transform = ToTensor()\n",
        "\n",
        "dataset = ImageDataset(root_dir='./sirius_data')\n",
        "\n",
        "dataloader = DataLoader(dataset, batch_size=1, shuffle=True, num_workers=1)"
      ],
      "metadata": {
        "id": "SjmF9JGRCt7k"
      },
      "execution_count": 6,
      "outputs": []
    },
    {
      "cell_type": "code",
      "source": [
        "def normPRED(d):\n",
        "  \"\"\" Нормировка предсказаний модели \"\"\"\n",
        "  ma = torch.max(d)\n",
        "  mi = torch.min(d)\n",
        "\n",
        "  dn = (d-mi)/(ma-mi)\n",
        "\n",
        "  return dn\n",
        "\n",
        "def create_gradient(width, height):\n",
        "  \"\"\" Создание вертикального затемнения изображения \"\"\"\n",
        "  gradient = np.linspace(255, 185, height, dtype=np.uint8)\n",
        "  gradient = np.tile(gradient, (width, 1)).T\n",
        "\n",
        "  return cv2.merge([gradient, gradient, gradient])\n",
        "\n",
        "def create_background(width, height, color):\n",
        "  \"\"\" Создание фонового изображения с шумом и градиентным затемнением \"\"\"\n",
        "  background = np.random.normal(loc=[max(0,color[0]-3),max(0,color[1]-3), max(0,color[2]-3)], scale=3, size=(height, width, 3)).astype(np.uint8)\n",
        "  background = cv2.blur(background, (10, 10), 0)\n",
        "\n",
        "  gradient = create_gradient(width, height)\n",
        "\n",
        "  return cv2.addWeighted(background, 0.5, gradient, 0.5, 0)\n",
        "\n",
        "def create_shadow(bg, mask):\n",
        "  \"\"\" Создание изображения с тенью объекта (в форме маски)\"\"\"\n",
        "\n",
        "  mask_blur = cv2.blur(mask, (45, 15))\n",
        "  black = np.zeros(bg.shape, dtype=np.uint8)\n",
        "\n",
        "  return (black + (1 - mask_blur) * bg).astype(np.uint8)\n",
        "\n"
      ],
      "metadata": {
        "id": "Z-Q-Y3K9urfP"
      },
      "execution_count": 7,
      "outputs": []
    },
    {
      "cell_type": "code",
      "source": [
        "THRESHOLD = 0.15 # минимальное значение предсказания модели для попадания этого пикселя в маску\n",
        "BACKGROUND_COLOR_RGB = [0, 150, 255] # желаемый цвет фона в формате RGB\n",
        "\n",
        "for path in tqdm(dataloader):\n",
        "  # Открытие изображения\n",
        "  image = Image.open(path[0]).convert(\"RGB\")\n",
        "  image_t = transform(image).to(device)\n",
        "\n",
        "  # Предсказания модели\n",
        "  d1, d2, d3, d4, d5, d6, d7 = net(image_t.unsqueeze(0))\n",
        "  predict = normPRED(d1[:,0,:,:].squeeze()) #нормирование предсказаний\n",
        "\n",
        "  # Удаление пикселей с слишком низким значением вероятности принадлежности к объекту\n",
        "  predict[predict <= THRESHOLD] = 0\n",
        "  mask = predict.cpu().detach().numpy() #маска сегментированного изображения\n",
        "\n",
        "  # Создание фона\n",
        "  bg = create_background(image.width, image.height, BACKGROUND_COLOR_RGB)\n",
        "\n",
        "  # Создание трехканальной маски сегментированного изображения\n",
        "  mask_3d = cv2.merge([mask, mask, mask])\n",
        "\n",
        "  # Наложение тени сегментированного изображения на его фон\n",
        "  bg_shadow = create_shadow(bg, mask_3d)\n",
        "\n",
        "  # Объединение сегментированного изображения и фона с его тенью\n",
        "  final_image = (mask_3d * image + (1 - mask_3d) * bg_shadow).astype(np.uint8)\n",
        "\n",
        "  # Сохранение изображения в файл results\n",
        "  Image.fromarray(final_image).save('./results/' + path[0][14:])\n"
      ],
      "metadata": {
        "id": "xkOGJW7_DcLy",
        "colab": {
          "base_uri": "https://localhost:8080/"
        },
        "outputId": "905b4b50-1950-4275-c7b3-c4c581512d1f"
      },
      "execution_count": 8,
      "outputs": [
        {
          "output_type": "stream",
          "name": "stderr",
          "text": [
            "\r  0%|          | 0/470 [00:00<?, ?it/s]/content/./U-2-Net/model/u2net.py:23: UserWarning: `nn.functional.upsample` is deprecated. Use `nn.functional.interpolate` instead.\n",
            "  src = F.upsample(src,size=tar.shape[2:],mode='bilinear')\n",
            "100%|██████████| 470/470 [00:32<00:00, 14.63it/s]\n"
          ]
        }
      ]
    }
  ]
}